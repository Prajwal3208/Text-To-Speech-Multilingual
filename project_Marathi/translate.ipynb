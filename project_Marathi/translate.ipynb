{
 "cells": [
  {
   "cell_type": "code",
   "execution_count": 1,
   "id": "edb4adbb",
   "metadata": {},
   "outputs": [
    {
     "name": "stdout",
     "output_type": "stream",
     "text": [
      "Defaulting to user installation because normal site-packages is not writeable\n",
      "Requirement already satisfied: gTTS in c:\\users\\prajw\\appdata\\roaming\\python\\python312\\site-packages (2.5.4)\n",
      "Requirement already satisfied: pydub in c:\\users\\prajw\\appdata\\roaming\\python\\python312\\site-packages (0.25.1)\n",
      "Requirement already satisfied: gradio in c:\\users\\prajw\\appdata\\roaming\\python\\python312\\site-packages (5.12.0)\n",
      "Requirement already satisfied: deep-translator in c:\\users\\prajw\\appdata\\roaming\\python\\python312\\site-packages (1.11.4)\n",
      "Requirement already satisfied: langdetect in c:\\users\\prajw\\appdata\\roaming\\python\\python312\\site-packages (1.0.9)\n",
      "Requirement already satisfied: requests<3,>=2.27 in c:\\users\\prajw\\appdata\\roaming\\python\\python312\\site-packages (from gTTS) (2.32.3)\n",
      "Requirement already satisfied: click<8.2,>=7.1 in c:\\users\\prajw\\appdata\\roaming\\python\\python312\\site-packages (from gTTS) (8.1.8)\n",
      "Requirement already satisfied: colorama in c:\\users\\prajw\\appdata\\roaming\\python\\python312\\site-packages (from click<8.2,>=7.1->gTTS) (0.4.6)\n",
      "Requirement already satisfied: charset-normalizer<4,>=2 in c:\\users\\prajw\\appdata\\roaming\\python\\python312\\site-packages (from requests<3,>=2.27->gTTS) (3.4.1)\n",
      "Requirement already satisfied: idna<4,>=2.5 in c:\\users\\prajw\\appdata\\roaming\\python\\python312\\site-packages (from requests<3,>=2.27->gTTS) (3.10)\n",
      "Requirement already satisfied: urllib3<3,>=1.21.1 in c:\\users\\prajw\\appdata\\roaming\\python\\python312\\site-packages (from requests<3,>=2.27->gTTS) (2.3.0)\n",
      "Requirement already satisfied: certifi>=2017.4.17 in c:\\users\\prajw\\appdata\\roaming\\python\\python312\\site-packages (from requests<3,>=2.27->gTTS) (2024.12.14)\n",
      "Requirement already satisfied: aiofiles<24.0,>=22.0 in c:\\users\\prajw\\appdata\\roaming\\python\\python312\\site-packages (from gradio) (23.2.1)\n",
      "Requirement already satisfied: anyio<5.0,>=3.0 in c:\\users\\prajw\\appdata\\roaming\\python\\python312\\site-packages (from gradio) (4.8.0)\n",
      "Requirement already satisfied: fastapi<1.0,>=0.115.2 in c:\\users\\prajw\\appdata\\roaming\\python\\python312\\site-packages (from gradio) (0.115.6)\n",
      "Requirement already satisfied: ffmpy in c:\\users\\prajw\\appdata\\roaming\\python\\python312\\site-packages (from gradio) (0.5.0)\n",
      "Requirement already satisfied: gradio-client==1.5.4 in c:\\users\\prajw\\appdata\\roaming\\python\\python312\\site-packages (from gradio) (1.5.4)\n",
      "Requirement already satisfied: httpx>=0.24.1 in c:\\users\\prajw\\appdata\\roaming\\python\\python312\\site-packages (from gradio) (0.28.1)\n",
      "Requirement already satisfied: huggingface-hub>=0.25.1 in c:\\users\\prajw\\appdata\\roaming\\python\\python312\\site-packages (from gradio) (0.27.1)\n",
      "Requirement already satisfied: jinja2<4.0 in c:\\users\\prajw\\appdata\\roaming\\python\\python312\\site-packages (from gradio) (3.1.5)\n",
      "Requirement already satisfied: markupsafe~=2.0 in c:\\users\\prajw\\appdata\\roaming\\python\\python312\\site-packages (from gradio) (2.1.5)\n",
      "Requirement already satisfied: numpy<3.0,>=1.0 in c:\\users\\prajw\\appdata\\roaming\\python\\python312\\site-packages (from gradio) (2.1.3)\n",
      "Requirement already satisfied: orjson~=3.0 in c:\\users\\prajw\\appdata\\roaming\\python\\python312\\site-packages (from gradio) (3.10.15)\n",
      "Requirement already satisfied: packaging in c:\\users\\prajw\\appdata\\roaming\\python\\python312\\site-packages (from gradio) (24.2)\n",
      "Requirement already satisfied: pandas<3.0,>=1.0 in c:\\users\\prajw\\appdata\\roaming\\python\\python312\\site-packages (from gradio) (2.2.3)\n",
      "Requirement already satisfied: pillow<12.0,>=8.0 in c:\\users\\prajw\\appdata\\roaming\\python\\python312\\site-packages (from gradio) (11.1.0)\n",
      "Requirement already satisfied: pydantic>=2.0 in c:\\users\\prajw\\appdata\\roaming\\python\\python312\\site-packages (from gradio) (2.10.5)\n",
      "Requirement already satisfied: python-multipart>=0.0.18 in c:\\users\\prajw\\appdata\\roaming\\python\\python312\\site-packages (from gradio) (0.0.20)\n",
      "Requirement already satisfied: pyyaml<7.0,>=5.0 in c:\\users\\prajw\\appdata\\roaming\\python\\python312\\site-packages (from gradio) (6.0.2)\n",
      "Requirement already satisfied: ruff>=0.2.2 in c:\\users\\prajw\\appdata\\roaming\\python\\python312\\site-packages (from gradio) (0.9.2)\n",
      "Requirement already satisfied: safehttpx<0.2.0,>=0.1.6 in c:\\users\\prajw\\appdata\\roaming\\python\\python312\\site-packages (from gradio) (0.1.6)\n",
      "Requirement already satisfied: semantic-version~=2.0 in c:\\users\\prajw\\appdata\\roaming\\python\\python312\\site-packages (from gradio) (2.10.0)\n",
      "Requirement already satisfied: starlette<1.0,>=0.40.0 in c:\\users\\prajw\\appdata\\roaming\\python\\python312\\site-packages (from gradio) (0.41.3)\n",
      "Requirement already satisfied: tomlkit<0.14.0,>=0.12.0 in c:\\users\\prajw\\appdata\\roaming\\python\\python312\\site-packages (from gradio) (0.13.2)\n",
      "Requirement already satisfied: typer<1.0,>=0.12 in c:\\users\\prajw\\appdata\\roaming\\python\\python312\\site-packages (from gradio) (0.15.1)\n",
      "Requirement already satisfied: typing-extensions~=4.0 in c:\\users\\prajw\\appdata\\roaming\\python\\python312\\site-packages (from gradio) (4.12.2)\n",
      "Requirement already satisfied: uvicorn>=0.14.0 in c:\\users\\prajw\\appdata\\roaming\\python\\python312\\site-packages (from gradio) (0.34.0)\n",
      "Requirement already satisfied: fsspec in c:\\users\\prajw\\appdata\\roaming\\python\\python312\\site-packages (from gradio-client==1.5.4->gradio) (2024.12.0)\n",
      "Requirement already satisfied: websockets<15.0,>=10.0 in c:\\users\\prajw\\appdata\\roaming\\python\\python312\\site-packages (from gradio-client==1.5.4->gradio) (14.1)\n",
      "Requirement already satisfied: sniffio>=1.1 in c:\\users\\prajw\\appdata\\roaming\\python\\python312\\site-packages (from anyio<5.0,>=3.0->gradio) (1.3.1)\n",
      "Requirement already satisfied: python-dateutil>=2.8.2 in c:\\users\\prajw\\appdata\\roaming\\python\\python312\\site-packages (from pandas<3.0,>=1.0->gradio) (2.9.0.post0)\n",
      "Requirement already satisfied: pytz>=2020.1 in c:\\users\\prajw\\appdata\\roaming\\python\\python312\\site-packages (from pandas<3.0,>=1.0->gradio) (2024.2)\n",
      "Requirement already satisfied: tzdata>=2022.7 in c:\\users\\prajw\\appdata\\roaming\\python\\python312\\site-packages (from pandas<3.0,>=1.0->gradio) (2024.2)\n",
      "Requirement already satisfied: annotated-types>=0.6.0 in c:\\users\\prajw\\appdata\\roaming\\python\\python312\\site-packages (from pydantic>=2.0->gradio) (0.7.0)\n",
      "Requirement already satisfied: pydantic-core==2.27.2 in c:\\users\\prajw\\appdata\\roaming\\python\\python312\\site-packages (from pydantic>=2.0->gradio) (2.27.2)\n",
      "Requirement already satisfied: shellingham>=1.3.0 in c:\\users\\prajw\\appdata\\roaming\\python\\python312\\site-packages (from typer<1.0,>=0.12->gradio) (1.5.4)\n",
      "Requirement already satisfied: rich>=10.11.0 in c:\\users\\prajw\\appdata\\roaming\\python\\python312\\site-packages (from typer<1.0,>=0.12->gradio) (13.9.4)\n",
      "Requirement already satisfied: beautifulsoup4<5.0.0,>=4.9.1 in c:\\users\\prajw\\appdata\\roaming\\python\\python312\\site-packages (from deep-translator) (4.13.4)\n",
      "Requirement already satisfied: soupsieve>1.2 in c:\\users\\prajw\\appdata\\roaming\\python\\python312\\site-packages (from beautifulsoup4<5.0.0,>=4.9.1->deep-translator) (2.7)\n",
      "Requirement already satisfied: six in c:\\users\\prajw\\appdata\\roaming\\python\\python312\\site-packages (from langdetect) (1.17.0)\n",
      "Requirement already satisfied: httpcore==1.* in c:\\users\\prajw\\appdata\\roaming\\python\\python312\\site-packages (from httpx>=0.24.1->gradio) (1.0.7)\n",
      "Requirement already satisfied: h11<0.15,>=0.13 in c:\\users\\prajw\\appdata\\roaming\\python\\python312\\site-packages (from httpcore==1.*->httpx>=0.24.1->gradio) (0.14.0)\n",
      "Requirement already satisfied: filelock in c:\\users\\prajw\\appdata\\roaming\\python\\python312\\site-packages (from huggingface-hub>=0.25.1->gradio) (3.16.1)\n",
      "Requirement already satisfied: tqdm>=4.42.1 in c:\\users\\prajw\\appdata\\roaming\\python\\python312\\site-packages (from huggingface-hub>=0.25.1->gradio) (4.67.1)\n",
      "Requirement already satisfied: markdown-it-py>=2.2.0 in c:\\users\\prajw\\appdata\\roaming\\python\\python312\\site-packages (from rich>=10.11.0->typer<1.0,>=0.12->gradio) (3.0.0)\n",
      "Requirement already satisfied: pygments<3.0.0,>=2.13.0 in c:\\users\\prajw\\appdata\\roaming\\python\\python312\\site-packages (from rich>=10.11.0->typer<1.0,>=0.12->gradio) (2.19.1)\n",
      "Requirement already satisfied: mdurl~=0.1 in c:\\users\\prajw\\appdata\\roaming\\python\\python312\\site-packages (from markdown-it-py>=2.2.0->rich>=10.11.0->typer<1.0,>=0.12->gradio) (0.1.2)\n"
     ]
    },
    {
     "name": "stderr",
     "output_type": "stream",
     "text": [
      "'apt' is not recognized as an internal or external command,\n",
      "operable program or batch file.\n"
     ]
    }
   ],
   "source": [
    "!pip install gTTS pydub gradio deep-translator langdetect\n",
    "!apt install ffmpeg -y"
   ]
  },
  {
   "cell_type": "code",
   "execution_count": 8,
   "id": "d7739076",
   "metadata": {},
   "outputs": [
    {
     "name": "stdout",
     "output_type": "stream",
     "text": [
      "Defaulting to user installation because normal site-packages is not writeable\n",
      "Requirement already satisfied: pip in c:\\users\\prajw\\appdata\\roaming\\python\\python312\\site-packages (24.2)\n",
      "Collecting pip\n",
      "  Using cached pip-25.1.1-py3-none-any.whl.metadata (3.6 kB)\n",
      "Using cached pip-25.1.1-py3-none-any.whl (1.8 MB)\n",
      "Installing collected packages: pip\n",
      "  Attempting uninstall: pip\n",
      "    Found existing installation: pip 24.2\n",
      "    Uninstalling pip-24.2:\n",
      "      Successfully uninstalled pip-24.2\n",
      "Successfully installed pip-25.1.1\n",
      "Note: you may need to restart the kernel to use updated packages.\n"
     ]
    }
   ],
   "source": [
    "pip install --upgrade pip"
   ]
  },
  {
   "cell_type": "code",
   "execution_count": 2,
   "id": "39dde571",
   "metadata": {},
   "outputs": [
    {
     "name": "stderr",
     "output_type": "stream",
     "text": [
      "C:\\Users\\prajw\\AppData\\Roaming\\Python\\Python312\\site-packages\\pydub\\utils.py:170: RuntimeWarning: Couldn't find ffmpeg or avconv - defaulting to ffmpeg, but may not work\n",
      "  warn(\"Couldn't find ffmpeg or avconv - defaulting to ffmpeg, but may not work\", RuntimeWarning)\n",
      "C:\\Users\\prajw\\AppData\\Roaming\\Python\\Python312\\site-packages\\tqdm\\auto.py:21: TqdmWarning: IProgress not found. Please update jupyter and ipywidgets. See https://ipywidgets.readthedocs.io/en/stable/user_install.html\n",
      "  from .autonotebook import tqdm as notebook_tqdm\n"
     ]
    }
   ],
   "source": [
    "from gtts import gTTS\n",
    "from pydub import AudioSegment\n",
    "from langdetect import detect\n",
    "from deep_translator import GoogleTranslator\n",
    "import gradio as gr\n",
    "import tempfile\n",
    "import io\n",
    "import textwrap"
   ]
  },
  {
   "cell_type": "markdown",
   "id": "085f7932",
   "metadata": {},
   "source": [
    "Emotion Modifier"
   ]
  },
  {
   "cell_type": "code",
   "execution_count": 3,
   "id": "72e779d4",
   "metadata": {},
   "outputs": [],
   "source": [
    "def modify_audio(audio_segment, emotion):\n",
    "    if emotion == \"Happy\":\n",
    "        return audio_segment.speedup(playback_speed=1.3).apply_gain(4)\n",
    "    elif emotion == \"Sad\":\n",
    "        return audio_segment.speedup(playback_speed=0.8).apply_gain(-3)\n",
    "    elif emotion == \"Angry\":\n",
    "        return audio_segment.speedup(playback_speed=1.4).apply_gain(5)\n",
    "    elif emotion == \"Calm\":\n",
    "        return audio_segment.speedup(playback_speed=0.9).apply_gain(0)\n",
    "    return audio_segment  # Neutral"
   ]
  },
  {
   "cell_type": "markdown",
   "id": "d7e6f0df",
   "metadata": {},
   "source": [
    "Language Detection + Translation"
   ]
  },
  {
   "cell_type": "code",
   "execution_count": 4,
   "id": "ade456ac",
   "metadata": {},
   "outputs": [],
   "source": [
    "def translate_to_marathi(text):\n",
    "    try:\n",
    "        lang = detect(text)\n",
    "        if lang != 'mr':\n",
    "            translated = GoogleTranslator(source='auto', target='mr').translate(text)\n",
    "            return translated\n",
    "        else:\n",
    "            return text  # already Marathi\n",
    "    except:\n",
    "        return text  # fallback, read as-is\n"
   ]
  },
  {
   "cell_type": "markdown",
   "id": "d6666309",
   "metadata": {},
   "source": [
    "TTS Generator with Long Text Support"
   ]
  },
  {
   "cell_type": "code",
   "execution_count": 5,
   "id": "552db29f",
   "metadata": {},
   "outputs": [],
   "source": [
    "def text_to_speech(text, emotion, auto_translate):\n",
    "    # Translate if enabled\n",
    "    if auto_translate:\n",
    "        text = translate_to_marathi(text)\n",
    "\n",
    "    # Split long text (~200 chars) for gTTS\n",
    "    chunks = textwrap.wrap(text, width=200)\n",
    "    combined_audio = AudioSegment.empty()\n",
    "\n",
    "    for chunk in chunks:\n",
    "        try:\n",
    "            tts = gTTS(text=chunk, lang='mr')  # Marathi pronunciation of any script\n",
    "        except:\n",
    "            tts = gTTS(text=chunk)  # fallback\n",
    "\n",
    "        buf = io.BytesIO()\n",
    "        tts.write_to_fp(buf)\n",
    "        buf.seek(0)\n",
    "        audio = AudioSegment.from_file(buf, format=\"mp3\")\n",
    "        combined_audio += audio\n",
    "\n",
    "    final_audio = modify_audio(combined_audio, emotion)\n",
    "\n",
    "    # Save to temp file\n",
    "    with tempfile.NamedTemporaryFile(delete=False, suffix=\".mp3\") as tmp_file:\n",
    "        final_audio.export(tmp_file.name, format=\"mp3\")\n",
    "        return tmp_file.name"
   ]
  },
  {
   "cell_type": "markdown",
   "id": "cdfb4362",
   "metadata": {},
   "source": [
    "Gradio interface"
   ]
  },
  {
   "cell_type": "code",
   "execution_count": 6,
   "id": "0005f461",
   "metadata": {},
   "outputs": [
    {
     "name": "stdout",
     "output_type": "stream",
     "text": [
      "* Running on local URL:  http://127.0.0.1:7860\n",
      "\n",
      "To create a public link, set `share=True` in `launch()`.\n"
     ]
    },
    {
     "data": {
      "text/html": [
       "<div><iframe src=\"http://127.0.0.1:7860/\" width=\"100%\" height=\"500\" allow=\"autoplay; camera; microphone; clipboard-read; clipboard-write;\" frameborder=\"0\" allowfullscreen></iframe></div>"
      ],
      "text/plain": [
       "<IPython.core.display.HTML object>"
      ]
     },
     "metadata": {},
     "output_type": "display_data"
    },
    {
     "name": "stderr",
     "output_type": "stream",
     "text": [
      "C:\\Users\\prajw\\AppData\\Roaming\\Python\\Python312\\site-packages\\pydub\\utils.py:198: RuntimeWarning: Couldn't find ffprobe or avprobe - defaulting to ffprobe, but may not work\n",
      "  warn(\"Couldn't find ffprobe or avprobe - defaulting to ffprobe, but may not work\", RuntimeWarning)\n",
      "Traceback (most recent call last):\n",
      "  File \"C:\\Users\\prajw\\AppData\\Roaming\\Python\\Python312\\site-packages\\gradio\\queueing.py\", line 625, in process_events\n",
      "    response = await route_utils.call_process_api(\n",
      "               ^^^^^^^^^^^^^^^^^^^^^^^^^^^^^^^^^^^\n",
      "  File \"C:\\Users\\prajw\\AppData\\Roaming\\Python\\Python312\\site-packages\\gradio\\route_utils.py\", line 322, in call_process_api\n",
      "    output = await app.get_blocks().process_api(\n",
      "             ^^^^^^^^^^^^^^^^^^^^^^^^^^^^^^^^^^^\n",
      "  File \"C:\\Users\\prajw\\AppData\\Roaming\\Python\\Python312\\site-packages\\gradio\\blocks.py\", line 2042, in process_api\n",
      "    result = await self.call_function(\n",
      "             ^^^^^^^^^^^^^^^^^^^^^^^^^\n",
      "  File \"C:\\Users\\prajw\\AppData\\Roaming\\Python\\Python312\\site-packages\\gradio\\blocks.py\", line 1589, in call_function\n",
      "    prediction = await anyio.to_thread.run_sync(  # type: ignore\n",
      "                 ^^^^^^^^^^^^^^^^^^^^^^^^^^^^^^^^^^^^^^^^^^^^^^^\n",
      "  File \"C:\\Users\\prajw\\AppData\\Roaming\\Python\\Python312\\site-packages\\anyio\\to_thread.py\", line 56, in run_sync\n",
      "    return await get_async_backend().run_sync_in_worker_thread(\n",
      "           ^^^^^^^^^^^^^^^^^^^^^^^^^^^^^^^^^^^^^^^^^^^^^^^^^^^^\n",
      "  File \"C:\\Users\\prajw\\AppData\\Roaming\\Python\\Python312\\site-packages\\anyio\\_backends\\_asyncio.py\", line 2461, in run_sync_in_worker_thread\n",
      "    return await future\n",
      "           ^^^^^^^^^^^^\n",
      "  File \"C:\\Users\\prajw\\AppData\\Roaming\\Python\\Python312\\site-packages\\anyio\\_backends\\_asyncio.py\", line 962, in run\n",
      "    result = context.run(func, *args)\n",
      "             ^^^^^^^^^^^^^^^^^^^^^^^^\n",
      "  File \"C:\\Users\\prajw\\AppData\\Roaming\\Python\\Python312\\site-packages\\gradio\\utils.py\", line 883, in wrapper\n",
      "    response = f(*args, **kwargs)\n",
      "               ^^^^^^^^^^^^^^^^^^\n",
      "  File \"C:\\Users\\prajw\\AppData\\Local\\Temp\\ipykernel_18208\\945354376.py\", line 19, in text_to_speech\n",
      "    audio = AudioSegment.from_file(buf, format=\"mp3\")\n",
      "            ^^^^^^^^^^^^^^^^^^^^^^^^^^^^^^^^^^^^^^^^^\n",
      "  File \"C:\\Users\\prajw\\AppData\\Roaming\\Python\\Python312\\site-packages\\pydub\\audio_segment.py\", line 728, in from_file\n",
      "    info = mediainfo_json(orig_file, read_ahead_limit=read_ahead_limit)\n",
      "           ^^^^^^^^^^^^^^^^^^^^^^^^^^^^^^^^^^^^^^^^^^^^^^^^^^^^^^^^^^^^\n",
      "  File \"C:\\Users\\prajw\\AppData\\Roaming\\Python\\Python312\\site-packages\\pydub\\utils.py\", line 274, in mediainfo_json\n",
      "    res = Popen(command, stdin=stdin_parameter, stdout=PIPE, stderr=PIPE)\n",
      "          ^^^^^^^^^^^^^^^^^^^^^^^^^^^^^^^^^^^^^^^^^^^^^^^^^^^^^^^^^^^^^^^\n",
      "  File \"c:\\Program Files\\Python312\\Lib\\subprocess.py\", line 1026, in __init__\n",
      "    self._execute_child(args, executable, preexec_fn, close_fds,\n",
      "  File \"c:\\Program Files\\Python312\\Lib\\subprocess.py\", line 1538, in _execute_child\n",
      "    hp, ht, pid, tid = _winapi.CreateProcess(executable, args,\n",
      "                       ^^^^^^^^^^^^^^^^^^^^^^^^^^^^^^^^^^^^^^^\n",
      "FileNotFoundError: [WinError 2] The system cannot find the file specified\n",
      "C:\\Users\\prajw\\AppData\\Roaming\\Python\\Python312\\site-packages\\pydub\\utils.py:198: RuntimeWarning: Couldn't find ffprobe or avprobe - defaulting to ffprobe, but may not work\n",
      "  warn(\"Couldn't find ffprobe or avprobe - defaulting to ffprobe, but may not work\", RuntimeWarning)\n",
      "Traceback (most recent call last):\n",
      "  File \"C:\\Users\\prajw\\AppData\\Roaming\\Python\\Python312\\site-packages\\gradio\\queueing.py\", line 625, in process_events\n",
      "    response = await route_utils.call_process_api(\n",
      "               ^^^^^^^^^^^^^^^^^^^^^^^^^^^^^^^^^^^\n",
      "  File \"C:\\Users\\prajw\\AppData\\Roaming\\Python\\Python312\\site-packages\\gradio\\route_utils.py\", line 322, in call_process_api\n",
      "    output = await app.get_blocks().process_api(\n",
      "             ^^^^^^^^^^^^^^^^^^^^^^^^^^^^^^^^^^^\n",
      "  File \"C:\\Users\\prajw\\AppData\\Roaming\\Python\\Python312\\site-packages\\gradio\\blocks.py\", line 2042, in process_api\n",
      "    result = await self.call_function(\n",
      "             ^^^^^^^^^^^^^^^^^^^^^^^^^\n",
      "  File \"C:\\Users\\prajw\\AppData\\Roaming\\Python\\Python312\\site-packages\\gradio\\blocks.py\", line 1589, in call_function\n",
      "    prediction = await anyio.to_thread.run_sync(  # type: ignore\n",
      "                 ^^^^^^^^^^^^^^^^^^^^^^^^^^^^^^^^^^^^^^^^^^^^^^^\n",
      "  File \"C:\\Users\\prajw\\AppData\\Roaming\\Python\\Python312\\site-packages\\anyio\\to_thread.py\", line 56, in run_sync\n",
      "    return await get_async_backend().run_sync_in_worker_thread(\n",
      "           ^^^^^^^^^^^^^^^^^^^^^^^^^^^^^^^^^^^^^^^^^^^^^^^^^^^^\n",
      "  File \"C:\\Users\\prajw\\AppData\\Roaming\\Python\\Python312\\site-packages\\anyio\\_backends\\_asyncio.py\", line 2461, in run_sync_in_worker_thread\n",
      "    return await future\n",
      "           ^^^^^^^^^^^^\n",
      "  File \"C:\\Users\\prajw\\AppData\\Roaming\\Python\\Python312\\site-packages\\anyio\\_backends\\_asyncio.py\", line 962, in run\n",
      "    result = context.run(func, *args)\n",
      "             ^^^^^^^^^^^^^^^^^^^^^^^^\n",
      "  File \"C:\\Users\\prajw\\AppData\\Roaming\\Python\\Python312\\site-packages\\gradio\\utils.py\", line 883, in wrapper\n",
      "    response = f(*args, **kwargs)\n",
      "               ^^^^^^^^^^^^^^^^^^\n",
      "  File \"C:\\Users\\prajw\\AppData\\Local\\Temp\\ipykernel_18208\\945354376.py\", line 19, in text_to_speech\n",
      "    audio = AudioSegment.from_file(buf, format=\"mp3\")\n",
      "            ^^^^^^^^^^^^^^^^^^^^^^^^^^^^^^^^^^^^^^^^^\n",
      "  File \"C:\\Users\\prajw\\AppData\\Roaming\\Python\\Python312\\site-packages\\pydub\\audio_segment.py\", line 728, in from_file\n",
      "    info = mediainfo_json(orig_file, read_ahead_limit=read_ahead_limit)\n",
      "           ^^^^^^^^^^^^^^^^^^^^^^^^^^^^^^^^^^^^^^^^^^^^^^^^^^^^^^^^^^^^\n",
      "  File \"C:\\Users\\prajw\\AppData\\Roaming\\Python\\Python312\\site-packages\\pydub\\utils.py\", line 274, in mediainfo_json\n",
      "    res = Popen(command, stdin=stdin_parameter, stdout=PIPE, stderr=PIPE)\n",
      "          ^^^^^^^^^^^^^^^^^^^^^^^^^^^^^^^^^^^^^^^^^^^^^^^^^^^^^^^^^^^^^^^\n",
      "  File \"c:\\Program Files\\Python312\\Lib\\subprocess.py\", line 1026, in __init__\n",
      "    self._execute_child(args, executable, preexec_fn, close_fds,\n",
      "  File \"c:\\Program Files\\Python312\\Lib\\subprocess.py\", line 1538, in _execute_child\n",
      "    hp, ht, pid, tid = _winapi.CreateProcess(executable, args,\n",
      "                       ^^^^^^^^^^^^^^^^^^^^^^^^^^^^^^^^^^^^^^^\n",
      "FileNotFoundError: [WinError 2] The system cannot find the file specified\n"
     ]
    },
    {
     "name": "stdout",
     "output_type": "stream",
     "text": [
      "Keyboard interruption in main thread... closing server.\n"
     ]
    },
    {
     "data": {
      "text/plain": []
     },
     "execution_count": 6,
     "metadata": {},
     "output_type": "execute_result"
    }
   ],
   "source": [
    "gr.Interface(\n",
    "    fn=text_to_speech,\n",
    "    inputs=[\n",
    "        gr.Textbox(label=\"Enter Any Language Text\"),\n",
    "        gr.Dropdown([\"Neutral\", \"Happy\", \"Sad\", \"Angry\", \"Calm\"], label=\"Emotion\", value=\"Neutral\"),\n",
    "        gr.Checkbox(label=\"Auto-translate to Marathi (Optional)\", value=True)\n",
    "    ],\n",
    "    outputs=gr.Audio(label=\"Generated Voice\", type=\"filepath\"),\n",
    "    title=\"🌍 Multilingual Text-to-Speech (Hindi | English | Marathi)\",\n",
    "    description=\"Supports emotion, long text, and optional translation to Marathi. Mixed words also supported.\"\n",
    ").launch(debug=True)\n"
   ]
  }
 ],
 "metadata": {
  "kernelspec": {
   "display_name": "Python 3",
   "language": "python",
   "name": "python3"
  },
  "language_info": {
   "codemirror_mode": {
    "name": "ipython",
    "version": 3
   },
   "file_extension": ".py",
   "mimetype": "text/x-python",
   "name": "python",
   "nbconvert_exporter": "python",
   "pygments_lexer": "ipython3",
   "version": "3.12.4"
  }
 },
 "nbformat": 4,
 "nbformat_minor": 5
}
